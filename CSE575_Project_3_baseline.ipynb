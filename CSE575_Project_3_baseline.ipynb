{
  "nbformat": 4,
  "nbformat_minor": 0,
  "metadata": {
    "colab": {
      "provenance": [],
      "authorship_tag": "ABX9TyMPs+Fhz5GQnIB2hBXZcnW9"
    },
    "kernelspec": {
      "name": "python3",
      "display_name": "Python 3"
    },
    "language_info": {
      "name": "python"
    }
  },
  "cells": [
    {
      "cell_type": "code",
      "execution_count": 7,
      "metadata": {
        "colab": {
          "base_uri": "https://localhost:8080/",
          "height": 843
        },
        "id": "47EY-zknayyb",
        "outputId": "ba62f9e2-2094-4ef6-bd63-9bd8fde73b79"
      },
      "outputs": [
        {
          "output_type": "stream",
          "name": "stdout",
          "text": [
            "x_train shape: (60000, 28, 28, 1)\n",
            "60000 train samples\n",
            "10000 test samples\n",
            "Epoch 1/12\n",
            "469/469 [==============================] - 26s 54ms/step - loss: 0.7840 - accuracy: 0.7595 - val_loss: 0.2456 - val_accuracy: 0.9254\n",
            "Epoch 2/12\n",
            "469/469 [==============================] - 24s 52ms/step - loss: 0.2150 - accuracy: 0.9373 - val_loss: 0.1650 - val_accuracy: 0.9505\n",
            "Epoch 3/12\n",
            "469/469 [==============================] - 25s 52ms/step - loss: 0.1640 - accuracy: 0.9511 - val_loss: 0.1361 - val_accuracy: 0.9600\n",
            "Epoch 4/12\n",
            "469/469 [==============================] - 25s 53ms/step - loss: 0.1354 - accuracy: 0.9593 - val_loss: 0.1209 - val_accuracy: 0.9632\n",
            "Epoch 5/12\n",
            "469/469 [==============================] - 25s 53ms/step - loss: 0.1169 - accuracy: 0.9646 - val_loss: 0.1014 - val_accuracy: 0.9685\n",
            "Epoch 6/12\n",
            "469/469 [==============================] - 25s 54ms/step - loss: 0.1039 - accuracy: 0.9684 - val_loss: 0.0916 - val_accuracy: 0.9710\n",
            "Epoch 7/12\n",
            "469/469 [==============================] - 25s 54ms/step - loss: 0.0935 - accuracy: 0.9713 - val_loss: 0.0898 - val_accuracy: 0.9732\n",
            "Epoch 8/12\n",
            "469/469 [==============================] - 25s 54ms/step - loss: 0.0856 - accuracy: 0.9737 - val_loss: 0.0767 - val_accuracy: 0.9762\n",
            "Epoch 9/12\n",
            "469/469 [==============================] - 25s 53ms/step - loss: 0.0797 - accuracy: 0.9763 - val_loss: 0.0732 - val_accuracy: 0.9770\n",
            "Epoch 10/12\n",
            "469/469 [==============================] - 25s 53ms/step - loss: 0.0742 - accuracy: 0.9775 - val_loss: 0.0719 - val_accuracy: 0.9784\n",
            "Epoch 11/12\n",
            "469/469 [==============================] - 25s 54ms/step - loss: 0.0699 - accuracy: 0.9786 - val_loss: 0.0673 - val_accuracy: 0.9794\n",
            "Epoch 12/12\n",
            "469/469 [==============================] - 25s 54ms/step - loss: 0.0663 - accuracy: 0.9797 - val_loss: 0.0649 - val_accuracy: 0.9802\n",
            "Test loss: 0.06494133174419403\n",
            "Test accuracy: 0.9801999926567078\n"
          ]
        },
        {
          "output_type": "display_data",
          "data": {
            "text/plain": [
              "<Figure size 432x288 with 1 Axes>"
            ],
            "image/png": "[encoded data removed]"
          },
          "metadata": {
            "needs_background": "light"
          }
        }
      ],
      "source": [
        "import keras\n",
        "from keras.datasets import mnist\n",
        "from keras.models import Sequential\n",
        "from keras.layers import Dense, Dropout, Flatten\n",
        "from keras.layers import Conv2D, MaxPooling2D\n",
        "from keras import backend as K\n",
        "import matplotlib.pyplot as plt\n",
        "\n",
        "batch_size = 128\n",
        "num_classes = 10\n",
        "epochs = 12\n",
        "\n",
        "# input image dimensions\n",
        "img_rows, img_cols = 28, 28\n",
        "\n",
        "# the data, split between train and test sets\n",
        "(x_train, y_train), (x_test, y_test) = mnist.load_data()\n",
        "\n",
        "if K.image_data_format() == 'channels_first':\n",
        "    x_train = x_train.reshape(x_train.shape[0], 1, img_rows, img_cols)\n",
        "    x_test = x_test.reshape(x_test.shape[0], 1, img_rows, img_cols)\n",
        "    input_shape = (1, img_rows, img_cols)\n",
        "else:\n",
        "    x_train = x_train.reshape(x_train.shape[0], img_rows, img_cols, 1)\n",
        "    x_test = x_test.reshape(x_test.shape[0], img_rows, img_cols, 1)\n",
        "    input_shape = (img_rows, img_cols, 1)\n",
        "\n",
        "x_train = x_train.astype('float32')\n",
        "x_test = x_test.astype('float32')\n",
        "x_train /= 255\n",
        "x_test /= 255\n",
        "print('x_train shape:', x_train.shape)\n",
        "print(x_train.shape[0], 'train samples')\n",
        "print(x_test.shape[0], 'test samples')\n",
        "\n",
        "# convert class vectors to binary class matrices\n",
        "y_train = keras.utils.to_categorical(y_train, num_classes)\n",
        "y_test = keras.utils.to_categorical(y_test, num_classes)\n",
        "\n",
        "model = Sequential()\n",
        "model.add(Conv2D(6, kernel_size=(5, 5),\n",
        "                 activation='relu',\n",
        "                 input_shape=input_shape))\n",
        "model.add(MaxPooling2D(pool_size=(2, 2)))\n",
        "model.add(Conv2D(16, (5, 5), activation='relu'))\n",
        "model.add(MaxPooling2D(pool_size=(2, 2)))\n",
        "model.add(Flatten())\n",
        "model.add(Dense(120, activation='relu'))\n",
        "model.add(Dense(84, activation='relu'))\n",
        "\n",
        "model.add(Dense(num_classes, activation='softmax'))\n",
        "\n",
        "# https://keras.io/optimizers/ \n",
        "model.compile(loss=keras.losses.categorical_crossentropy,\n",
        "              optimizer=keras.optimizers.Adadelta(learning_rate=0.1, rho=0.95, epsilon=None, decay=0.0),\n",
        "              metrics=['accuracy'])\n",
        "\n",
        "history = model.fit(x_train, y_train,\n",
        "          batch_size=batch_size,\n",
        "          epochs=epochs,\n",
        "          verbose=1,\n",
        "          validation_data=(x_test, y_test))\n",
        "score = model.evaluate(x_test, y_test, verbose=0)\n",
        "\n",
        "\n",
        "print('Test loss:', score[0])\n",
        "print('Test accuracy:', score[1])\n",
        "\n",
        "plt.plot(history.history['loss'])\n",
        "plt.plot(history.history['val_loss'])\n",
        "plt.title(f\"Test Loss: {score[0]}\\nTest Accuracy: {score[1]}\\n\\n5*5 Kernel Loss\")\n",
        "plt.ylabel('Loss')\n",
        "plt.xlabel('Epoch')\n",
        "plt.legend(['Train','Test'], loc='upper right')\n",
        "plt.show()"
      ]
    }
  ]
}